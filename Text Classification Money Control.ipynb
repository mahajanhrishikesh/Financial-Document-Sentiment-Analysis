{
 "cells": [
  {
   "cell_type": "markdown",
   "metadata": {},
   "source": [
    "## Text Classification Notebook applied on MoneyControl Dataset\n",
    "#### Name: Hrishikesh Milind Mahajan\n",
    "#### Roll No.: PC-45\n",
    "#### Serial No.: 1032171054\n",
    "##### Demo for sentiment analysis for seminar topic\n",
    "##### <font color='red'>Do refer the dataset scraping notebook to get a better feel of the data.</font>"
   ]
  },
  {
   "cell_type": "code",
   "execution_count": 1,
   "metadata": {},
   "outputs": [],
   "source": [
    "# Importing all the necessary libraries\n",
    "import numpy as np\n",
    "import pandas as pd\n",
    "import matplotlib.pyplot as plt"
   ]
  },
  {
   "cell_type": "code",
   "execution_count": 3,
   "metadata": {},
   "outputs": [],
   "source": [
    "#loading our dataset of news articles freshly scrapped from moneycontrol website\n",
    "df1 = pd.read_csv('MoneyControl-First-1-10-Pages.csv')\n",
    "df2 = pd.read_csv('MoneyControl-First-11-20-Pages.csv')\n",
    "df = pd.concat([df1,df2])"
   ]
  },
  {
   "cell_type": "code",
   "execution_count": 4,
   "metadata": {},
   "outputs": [
    {
     "data": {
      "text/html": [
       "<div>\n",
       "<style scoped>\n",
       "    .dataframe tbody tr th:only-of-type {\n",
       "        vertical-align: middle;\n",
       "    }\n",
       "\n",
       "    .dataframe tbody tr th {\n",
       "        vertical-align: top;\n",
       "    }\n",
       "\n",
       "    .dataframe thead th {\n",
       "        text-align: right;\n",
       "    }\n",
       "</style>\n",
       "<table border=\"1\" class=\"dataframe\">\n",
       "  <thead>\n",
       "    <tr style=\"text-align: right;\">\n",
       "      <th></th>\n",
       "      <th>time</th>\n",
       "      <th>Label</th>\n",
       "      <th>author</th>\n",
       "      <th>title</th>\n",
       "      <th>summary</th>\n",
       "      <th>description</th>\n",
       "      <th>article_text</th>\n",
       "      <th>url</th>\n",
       "    </tr>\n",
       "  </thead>\n",
       "  <tbody>\n",
       "    <tr>\n",
       "      <th>0</th>\n",
       "      <td>April 13, 2020 12:04 PM IST</td>\n",
       "      <td>1</td>\n",
       "      <td>Sunil Matkar</td>\n",
       "      <td>Max Financial gains 5% on Max Life extending i...</td>\n",
       "      <td>Max Financial Services share price rallied 4.7...</td>\n",
       "      <td>Max Life-Yes Bank relationship has over the ye...</td>\n",
       "      <td>Max Financial Services share price rallied 4.7...</td>\n",
       "      <td>https://www.moneycontrol.com/news/business/mar...</td>\n",
       "    </tr>\n",
       "    <tr>\n",
       "      <th>1</th>\n",
       "      <td>April 13, 2020 08:55 PM IST</td>\n",
       "      <td>0</td>\n",
       "      <td>Kshitij Anand</td>\n",
       "      <td>Looking to invest in US market? Subscription f...</td>\n",
       "      <td>On April 13, the company announced the launch ...</td>\n",
       "      <td>Motilal Oswal S&amp;P 500® Index Fund will open fo...</td>\n",
       "      <td>If you wish to invest in companies based out o...</td>\n",
       "      <td>https://www.moneycontrol.com/news/business/mar...</td>\n",
       "    </tr>\n",
       "    <tr>\n",
       "      <th>2</th>\n",
       "      <td>April 13, 2020 01:14 PM IST</td>\n",
       "      <td>0</td>\n",
       "      <td>Kshitij Anand</td>\n",
       "      <td>Timing the market is not possible, but investo...</td>\n",
       "      <td>The choice of stocks vs mutual funds is always...</td>\n",
       "      <td>Timing the market is not possible. However, at...</td>\n",
       "      <td>Timing the market is not possible. However, at...</td>\n",
       "      <td>https://www.moneycontrol.com/news/business/mar...</td>\n",
       "    </tr>\n",
       "    <tr>\n",
       "      <th>3</th>\n",
       "      <td>April 13, 2020 02:34 PM IST</td>\n",
       "      <td>-2</td>\n",
       "      <td>Nishant Kumar</td>\n",
       "      <td>Zee Entertainment share price plunges 14%, loo...</td>\n",
       "      <td>Zee Entertainment share price plunged over 14 ...</td>\n",
       "      <td>The company will extend financial and operatio...</td>\n",
       "      <td>Zee Entertainment share price plunged over 14 ...</td>\n",
       "      <td>https://www.moneycontrol.com/news/business/mar...</td>\n",
       "    </tr>\n",
       "    <tr>\n",
       "      <th>4</th>\n",
       "      <td>April 13, 2020 11:45 AM IST</td>\n",
       "      <td>-1</td>\n",
       "      <td>Sunil Matkar</td>\n",
       "      <td>Bandhan Bank share price slips 10% despite str...</td>\n",
       "      <td>Bandhan Bank share price fell nearly 10 percen...</td>\n",
       "      <td>The capital adequacy ratio of the bank at the ...</td>\n",
       "      <td>Bandhan Bank share price fell nearly 10 percen...</td>\n",
       "      <td>https://www.moneycontrol.com/news/business/mar...</td>\n",
       "    </tr>\n",
       "  </tbody>\n",
       "</table>\n",
       "</div>"
      ],
      "text/plain": [
       "                          time  Label         author  \\\n",
       "0  April 13, 2020 12:04 PM IST      1   Sunil Matkar   \n",
       "1  April 13, 2020 08:55 PM IST      0  Kshitij Anand   \n",
       "2  April 13, 2020 01:14 PM IST      0  Kshitij Anand   \n",
       "3  April 13, 2020 02:34 PM IST     -2  Nishant Kumar   \n",
       "4  April 13, 2020 11:45 AM IST     -1   Sunil Matkar   \n",
       "\n",
       "                                               title  \\\n",
       "0  Max Financial gains 5% on Max Life extending i...   \n",
       "1  Looking to invest in US market? Subscription f...   \n",
       "2  Timing the market is not possible, but investo...   \n",
       "3  Zee Entertainment share price plunges 14%, loo...   \n",
       "4  Bandhan Bank share price slips 10% despite str...   \n",
       "\n",
       "                                             summary  \\\n",
       "0  Max Financial Services share price rallied 4.7...   \n",
       "1  On April 13, the company announced the launch ...   \n",
       "2  The choice of stocks vs mutual funds is always...   \n",
       "3  Zee Entertainment share price plunged over 14 ...   \n",
       "4  Bandhan Bank share price fell nearly 10 percen...   \n",
       "\n",
       "                                         description  \\\n",
       "0  Max Life-Yes Bank relationship has over the ye...   \n",
       "1  Motilal Oswal S&P 500® Index Fund will open fo...   \n",
       "2  Timing the market is not possible. However, at...   \n",
       "3  The company will extend financial and operatio...   \n",
       "4  The capital adequacy ratio of the bank at the ...   \n",
       "\n",
       "                                        article_text  \\\n",
       "0  Max Financial Services share price rallied 4.7...   \n",
       "1  If you wish to invest in companies based out o...   \n",
       "2  Timing the market is not possible. However, at...   \n",
       "3  Zee Entertainment share price plunged over 14 ...   \n",
       "4  Bandhan Bank share price fell nearly 10 percen...   \n",
       "\n",
       "                                                 url  \n",
       "0  https://www.moneycontrol.com/news/business/mar...  \n",
       "1  https://www.moneycontrol.com/news/business/mar...  \n",
       "2  https://www.moneycontrol.com/news/business/mar...  \n",
       "3  https://www.moneycontrol.com/news/business/mar...  \n",
       "4  https://www.moneycontrol.com/news/business/mar...  "
      ]
     },
     "execution_count": 4,
     "metadata": {},
     "output_type": "execute_result"
    }
   ],
   "source": [
    "# Removing unnecessary columns\n",
    "df = df.iloc[:,1:]\n",
    "df.head()"
   ]
  },
  {
   "cell_type": "code",
   "execution_count": 5,
   "metadata": {},
   "outputs": [
    {
     "data": {
      "text/plain": [
       "time             0\n",
       "Label            0\n",
       "author          32\n",
       "title            0\n",
       "summary          0\n",
       "description      8\n",
       "article_text     0\n",
       "url              0\n",
       "dtype: int64"
      ]
     },
     "execution_count": 5,
     "metadata": {},
     "output_type": "execute_result"
    }
   ],
   "source": [
    "# Searching for empty cells\n",
    "df.isnull().sum()\n",
    "# We do not require authors as of yet so we can ignore those missing values\n",
    "# The following model will be applied on titles only"
   ]
  },
  {
   "cell_type": "code",
   "execution_count": 6,
   "metadata": {
    "scrolled": true
   },
   "outputs": [
    {
     "name": "stdout",
     "output_type": "stream",
     "text": [
      "<class 'pandas.core.frame.DataFrame'>\n",
      "Int64Index: 457 entries, 0 to 218\n",
      "Data columns (total 8 columns):\n",
      " #   Column        Non-Null Count  Dtype \n",
      "---  ------        --------------  ----- \n",
      " 0   time          457 non-null    object\n",
      " 1   Label         457 non-null    int64 \n",
      " 2   author        425 non-null    object\n",
      " 3   title         457 non-null    object\n",
      " 4   summary       457 non-null    object\n",
      " 5   description   449 non-null    object\n",
      " 6   article_text  457 non-null    object\n",
      " 7   url           457 non-null    object\n",
      "dtypes: int64(1), object(7)\n",
      "memory usage: 32.1+ KB\n"
     ]
    }
   ],
   "source": [
    "df.info()"
   ]
  },
  {
   "cell_type": "markdown",
   "metadata": {},
   "source": [
    "#### Dataset news articles have been labeled are as follows:\n",
    "    -2 Label Score -> Very Negative News\n",
    "    -1 Label Score -> Negative News\n",
    "     0 Label Score -> Neutral News\n",
    "     1 Label Score -> Positive News\n",
    "     2 Label Score -> Very Positive News\n",
    "     \n",
    "Since so many classes will not be correctly classified with the help of simpler machine learning models we will map the scores as follows...\n",
    "\n",
    "    -1 Label Score -> Negative News\n",
    "     1 Label Score -> Positive News"
   ]
  },
  {
   "cell_type": "code",
   "execution_count": 7,
   "metadata": {},
   "outputs": [],
   "source": [
    "maps = {2: 1, 1: 1, 0: 0, -1: -1, -2: -1}"
   ]
  },
  {
   "cell_type": "code",
   "execution_count": 8,
   "metadata": {},
   "outputs": [],
   "source": [
    "x = [1, 2, -1, -1, -2, 0]"
   ]
  },
  {
   "cell_type": "code",
   "execution_count": 9,
   "metadata": {},
   "outputs": [],
   "source": [
    "df.Label = [maps[i] for i in df.Label]"
   ]
  },
  {
   "cell_type": "code",
   "execution_count": 10,
   "metadata": {},
   "outputs": [],
   "source": [
    "df01 = df[df.Label != 0]"
   ]
  },
  {
   "cell_type": "code",
   "execution_count": 11,
   "metadata": {},
   "outputs": [],
   "source": [
    "X = df01['title']\n",
    "y = df01['Label']\n",
    "from sklearn.model_selection import train_test_split\n",
    "X_train, X_test, y_train, y_test = train_test_split(X,y, test_size = 0.3, random_state = 0)"
   ]
  },
  {
   "cell_type": "code",
   "execution_count": 12,
   "metadata": {},
   "outputs": [
    {
     "data": {
      "text/plain": [
       "Pipeline(memory=None,\n",
       "     steps=[('tfidf', TfidfVectorizer(analyzer='word', binary=False, decode_error='strict',\n",
       "        dtype=<class 'numpy.float64'>, encoding='utf-8', input='content',\n",
       "        lowercase=True, max_df=1.0, max_features=None, min_df=1,\n",
       "        ngram_range=(1, 1), norm='l2', preprocessor=None, smooth_idf=True,...ax_iter=1000,\n",
       "     multi_class='ovr', penalty='l2', random_state=None, tol=0.0001,\n",
       "     verbose=0))])"
      ]
     },
     "execution_count": 12,
     "metadata": {},
     "output_type": "execute_result"
    }
   ],
   "source": [
    "from sklearn.pipeline import Pipeline\n",
    "from sklearn.feature_extraction.text import TfidfVectorizer\n",
    "from sklearn.svm import LinearSVC\n",
    "text_clf = Pipeline([('tfidf', TfidfVectorizer()), ('svc', LinearSVC())])\n",
    "text_clf.fit(X_train, y_train)"
   ]
  },
  {
   "cell_type": "code",
   "execution_count": 13,
   "metadata": {},
   "outputs": [],
   "source": [
    "predictions = text_clf.predict(X_test)"
   ]
  },
  {
   "cell_type": "code",
   "execution_count": 15,
   "metadata": {},
   "outputs": [
    {
     "data": {
      "text/plain": [
       "array([[34, 15],\n",
       "       [10, 64]], dtype=int64)"
      ]
     },
     "execution_count": 15,
     "metadata": {},
     "output_type": "execute_result"
    }
   ],
   "source": [
    "from sklearn import metrics\n",
    "metrics.confusion_matrix(predictions, y_test)"
   ]
  },
  {
   "cell_type": "code",
   "execution_count": 16,
   "metadata": {},
   "outputs": [
    {
     "data": {
      "text/plain": [
       "0.7967479674796748"
      ]
     },
     "execution_count": 16,
     "metadata": {},
     "output_type": "execute_result"
    }
   ],
   "source": [
    "metrics.accuracy_score(predictions, y_test)"
   ]
  },
  {
   "cell_type": "markdown",
   "metadata": {},
   "source": [
    "### Trying to explain poor accuracy of negative news articles\n",
    "    Looking at the histogram below it is clear that the number of positive news articles far exceeds the negative news articles, hence this maybe one of the possible explantions that there does not exist enough training data for the negative news articles.\n",
    "    Solution for the same: Scrape from more websites or simply add in more negative news articles."
   ]
  },
  {
   "cell_type": "code",
   "execution_count": 17,
   "metadata": {},
   "outputs": [
    {
     "data": {
      "text/plain": [
       "(array([169.,   0.,   0.,   0.,   0.,   0.,   0.,   0.,   0., 238.]),\n",
       " array([-1. , -0.8, -0.6, -0.4, -0.2,  0. ,  0.2,  0.4,  0.6,  0.8,  1. ]),\n",
       " <a list of 10 Patch objects>)"
      ]
     },
     "execution_count": 17,
     "metadata": {},
     "output_type": "execute_result"
    },
    {
     "data": {
      "image/png": "[encoded data removed]",
      "text/plain": [
       "<Figure size 432x288 with 1 Axes>"
      ]
     },
     "metadata": {
      "needs_background": "light"
     },
     "output_type": "display_data"
    }
   ],
   "source": [
    "plt.hist(df01.Label)"
   ]
  },
  {
   "cell_type": "markdown",
   "metadata": {},
   "source": [
    "### Examples of the model in action\n",
    "    We provide the model with unseen headlines and it shall classify the same as positive and negative, do recall that...\n",
    "    -1 Label Score Means news article is negative\n",
    "     1 Label Score Means news article is positive"
   ]
  },
  {
   "cell_type": "code",
   "execution_count": 18,
   "metadata": {},
   "outputs": [
    {
     "data": {
      "text/plain": [
       "array([1], dtype=int64)"
      ]
     },
     "execution_count": 18,
     "metadata": {},
     "output_type": "execute_result"
    }
   ],
   "source": [
    "text_clf.predict([\"Pharma sector stocks gain 20% amid Covid-19 pandemic\"])"
   ]
  },
  {
   "cell_type": "code",
   "execution_count": 19,
   "metadata": {},
   "outputs": [
    {
     "data": {
      "text/plain": [
       "array([-1], dtype=int64)"
      ]
     },
     "execution_count": 19,
     "metadata": {},
     "output_type": "execute_result"
    }
   ],
   "source": [
    "text_clf.predict([\"SENSEX down by 1450 points\"])"
   ]
  },
  {
   "cell_type": "code",
   "execution_count": 20,
   "metadata": {},
   "outputs": [
    {
     "data": {
      "text/plain": [
       "array([1], dtype=int64)"
      ]
     },
     "execution_count": 20,
     "metadata": {},
     "output_type": "execute_result"
    }
   ],
   "source": [
    "text_clf.predict([\"Kotak Equities suggests buy on IBM stock.\"])"
   ]
  },
  {
   "cell_type": "code",
   "execution_count": 21,
   "metadata": {},
   "outputs": [
    {
     "data": {
      "text/plain": [
       "array([-1], dtype=int64)"
      ]
     },
     "execution_count": 21,
     "metadata": {},
     "output_type": "execute_result"
    }
   ],
   "source": [
    "text_clf.predict([\"Tata Motors falls 8% auto markets in decline. \"])"
   ]
  },
  {
   "cell_type": "code",
   "execution_count": null,
   "metadata": {},
   "outputs": [],
   "source": [
    "df.to_csv(\"MoneyControl-First-1-20\")"
   ]
  }
 ],
 "metadata": {
  "kernelspec": {
   "display_name": "Python 3",
   "language": "python",
   "name": "python3"
  },
  "language_info": {
   "codemirror_mode": {
    "name": "ipython",
    "version": 3
   },
   "file_extension": ".py",
   "mimetype": "text/x-python",
   "name": "python",
   "nbconvert_exporter": "python",
   "pygments_lexer": "ipython3",
   "version": "3.7.3"
  }
 },
 "nbformat": 4,
 "nbformat_minor": 4
}
