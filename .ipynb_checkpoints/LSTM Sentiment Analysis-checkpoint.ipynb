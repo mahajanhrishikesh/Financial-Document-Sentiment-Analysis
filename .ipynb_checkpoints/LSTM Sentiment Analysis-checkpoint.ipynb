{
 "cells": [
  {
   "cell_type": "code",
   "execution_count": 2,
   "metadata": {},
   "outputs": [
    {
     "name": "stderr",
     "output_type": "stream",
     "text": [
      "Using TensorFlow backend.\n"
     ]
    }
   ],
   "source": [
    "#Importing necessary libraries\n",
    "import numpy as np\n",
    "import pandas as pd\n",
    "from keras.models import Sequential\n",
    "from keras.layers import Dense\n",
    "from keras.layers import LSTM\n",
    "from keras.layers.embeddings import Embedding\n",
    "from keras.layers import Dropout\n",
    "from keras.preprocessing import sequence"
   ]
  },
  {
   "cell_type": "code",
   "execution_count": 3,
   "metadata": {},
   "outputs": [
    {
     "name": "stderr",
     "output_type": "stream",
     "text": [
      "E:\\Anaconda\\envs\\nlp_course\\lib\\site-packages\\ipykernel_launcher.py:4: FutureWarning: Sorting because non-concatenation axis is not aligned. A future version\n",
      "of pandas will change to not sort by default.\n",
      "\n",
      "To accept the future behavior, pass 'sort=False'.\n",
      "\n",
      "To retain the current behavior and silence the warning, pass 'sort=True'.\n",
      "\n",
      "  after removing the cwd from sys.path.\n"
     ]
    }
   ],
   "source": [
    "d1 = pd.read_csv('MoneyControl-First-1-10-Pages.csv')\n",
    "d2 = pd.read_csv('MoneyControl-First-11-20-Pages.csv')\n",
    "d3 = pd.read_csv('MoneyControl-First-1-10-Pages-New.csv')\n",
    "df = pd.concat([d1,d2,d3])"
   ]
  },
  {
   "cell_type": "code",
   "execution_count": 5,
   "metadata": {},
   "outputs": [],
   "source": [
    "from nltk.corpus import stopwords\n",
    "stops = set(stopwords.words(\"english\")) \n",
    "from nltk.stem import PorterStemmer\n",
    "stemming = PorterStemmer()\n",
    "def preprocessor(line):\n",
    "    line = line.lower()\n",
    "    line = line.split()\n",
    "    #print(line)\n",
    "    line = [stemming.stem(i) for i in line]\n",
    "    #print(line)\n",
    "    line = [i for i in line if not i in stops]\n",
    "    #print(line)\n",
    "    return ' '.join(line)\n",
    "df.title = [preprocessor(i) for i in df.title]\n",
    "df.summary = [preprocessor(i) for i in df.summary]\n",
    "df.article_text = [preprocessor(i) for i in df.article_text]"
   ]
  },
  {
   "cell_type": "code",
   "execution_count": 9,
   "metadata": {},
   "outputs": [
    {
     "data": {
      "text/plain": [
       "'max financi servic share price ralli 4.7 percent intraday april 13 insur subsidiari extend five-year bancassur partnership privat sector lender ye bank. wa trade rs 363.75, rs 11.70, 3.32 percent, bse 1138 hours. \"max life insur ye bank announc five-year extens strateg bancassur relationship. compani began partnership februari 2005, core commit toward secur financi futur customers. partnership ha settl death claim rs 70 crore, offer protect worth around rs 34,500 crore policyhold families.'"
      ]
     },
     "execution_count": 9,
     "metadata": {},
     "output_type": "execute_result"
    }
   ],
   "source": [
    "df.iloc[0].summary"
   ]
  },
  {
   "cell_type": "code",
   "execution_count": 3,
   "metadata": {},
   "outputs": [],
   "source": [
    "maps = {2: 1, 1: 1, 0: 0, -1: -1, -2: -1}\n",
    "df.Label = [maps[i] for i in df.Label]\n",
    "df = df[df.Label != 0]"
   ]
  },
  {
   "cell_type": "code",
   "execution_count": 4,
   "metadata": {},
   "outputs": [
    {
     "data": {
      "text/html": [
       "<div>\n",
       "<style scoped>\n",
       "    .dataframe tbody tr th:only-of-type {\n",
       "        vertical-align: middle;\n",
       "    }\n",
       "\n",
       "    .dataframe tbody tr th {\n",
       "        vertical-align: top;\n",
       "    }\n",
       "\n",
       "    .dataframe thead th {\n",
       "        text-align: right;\n",
       "    }\n",
       "</style>\n",
       "<table border=\"1\" class=\"dataframe\">\n",
       "  <thead>\n",
       "    <tr style=\"text-align: right;\">\n",
       "      <th></th>\n",
       "      <th>Unnamed: 0</th>\n",
       "      <th>time</th>\n",
       "      <th>Label</th>\n",
       "      <th>author</th>\n",
       "      <th>title</th>\n",
       "      <th>summary</th>\n",
       "      <th>description</th>\n",
       "      <th>article_text</th>\n",
       "      <th>url</th>\n",
       "    </tr>\n",
       "  </thead>\n",
       "  <tbody>\n",
       "    <tr>\n",
       "      <th>0</th>\n",
       "      <td>0</td>\n",
       "      <td>April 13, 2020 12:04 PM IST</td>\n",
       "      <td>1</td>\n",
       "      <td>Sunil Matkar</td>\n",
       "      <td>Max Financial gains 5% on Max Life extending i...</td>\n",
       "      <td>Max Financial Services share price rallied 4.7...</td>\n",
       "      <td>Max Life-Yes Bank relationship has over the ye...</td>\n",
       "      <td>Max Financial Services share price rallied 4.7...</td>\n",
       "      <td>https://www.moneycontrol.com/news/business/mar...</td>\n",
       "    </tr>\n",
       "    <tr>\n",
       "      <th>3</th>\n",
       "      <td>3</td>\n",
       "      <td>April 13, 2020 02:34 PM IST</td>\n",
       "      <td>-1</td>\n",
       "      <td>Nishant Kumar</td>\n",
       "      <td>Zee Entertainment share price plunges 14%, loo...</td>\n",
       "      <td>Zee Entertainment share price plunged over 14 ...</td>\n",
       "      <td>The company will extend financial and operatio...</td>\n",
       "      <td>Zee Entertainment share price plunged over 14 ...</td>\n",
       "      <td>https://www.moneycontrol.com/news/business/mar...</td>\n",
       "    </tr>\n",
       "    <tr>\n",
       "      <th>4</th>\n",
       "      <td>4</td>\n",
       "      <td>April 13, 2020 11:45 AM IST</td>\n",
       "      <td>-1</td>\n",
       "      <td>Sunil Matkar</td>\n",
       "      <td>Bandhan Bank share price slips 10% despite str...</td>\n",
       "      <td>Bandhan Bank share price fell nearly 10 percen...</td>\n",
       "      <td>The capital adequacy ratio of the bank at the ...</td>\n",
       "      <td>Bandhan Bank share price fell nearly 10 percen...</td>\n",
       "      <td>https://www.moneycontrol.com/news/business/mar...</td>\n",
       "    </tr>\n",
       "    <tr>\n",
       "      <th>5</th>\n",
       "      <td>5</td>\n",
       "      <td>April 13, 2020 12:07 PM IST</td>\n",
       "      <td>1</td>\n",
       "      <td>Sandip Das</td>\n",
       "      <td>Cadila Healthcare shares rise 2% on USFDA nod ...</td>\n",
       "      <td>Share price of Cadila Healthcare was up over 2...</td>\n",
       "      <td>Zydus Cadila has received tentative approval f...</td>\n",
       "      <td>Share price of Cadila Healthcare was up over 2...</td>\n",
       "      <td>https://www.moneycontrol.com/news/business/sto...</td>\n",
       "    </tr>\n",
       "    <tr>\n",
       "      <th>8</th>\n",
       "      <td>8</td>\n",
       "      <td>April 13, 2020 01:33 PM IST</td>\n",
       "      <td>1</td>\n",
       "      <td>Sunil Matkar</td>\n",
       "      <td>Indoco Remedies surges 16% as it ships Paracet...</td>\n",
       "      <td>Shares of Indoco Remedies rallied nearly 16 pe...</td>\n",
       "      <td>The permission granted by the Indian Governmen...</td>\n",
       "      <td>Shares of Indoco Remedies rallied nearly 16 pe...</td>\n",
       "      <td>https://www.moneycontrol.com/news/business/mar...</td>\n",
       "    </tr>\n",
       "  </tbody>\n",
       "</table>\n",
       "</div>"
      ],
      "text/plain": [
       "   Unnamed: 0                         time  Label         author  \\\n",
       "0           0  April 13, 2020 12:04 PM IST      1   Sunil Matkar   \n",
       "3           3  April 13, 2020 02:34 PM IST     -1  Nishant Kumar   \n",
       "4           4  April 13, 2020 11:45 AM IST     -1   Sunil Matkar   \n",
       "5           5  April 13, 2020 12:07 PM IST      1     Sandip Das   \n",
       "8           8  April 13, 2020 01:33 PM IST      1   Sunil Matkar   \n",
       "\n",
       "                                               title  \\\n",
       "0  Max Financial gains 5% on Max Life extending i...   \n",
       "3  Zee Entertainment share price plunges 14%, loo...   \n",
       "4  Bandhan Bank share price slips 10% despite str...   \n",
       "5  Cadila Healthcare shares rise 2% on USFDA nod ...   \n",
       "8  Indoco Remedies surges 16% as it ships Paracet...   \n",
       "\n",
       "                                             summary  \\\n",
       "0  Max Financial Services share price rallied 4.7...   \n",
       "3  Zee Entertainment share price plunged over 14 ...   \n",
       "4  Bandhan Bank share price fell nearly 10 percen...   \n",
       "5  Share price of Cadila Healthcare was up over 2...   \n",
       "8  Shares of Indoco Remedies rallied nearly 16 pe...   \n",
       "\n",
       "                                         description  \\\n",
       "0  Max Life-Yes Bank relationship has over the ye...   \n",
       "3  The company will extend financial and operatio...   \n",
       "4  The capital adequacy ratio of the bank at the ...   \n",
       "5  Zydus Cadila has received tentative approval f...   \n",
       "8  The permission granted by the Indian Governmen...   \n",
       "\n",
       "                                        article_text  \\\n",
       "0  Max Financial Services share price rallied 4.7...   \n",
       "3  Zee Entertainment share price plunged over 14 ...   \n",
       "4  Bandhan Bank share price fell nearly 10 percen...   \n",
       "5  Share price of Cadila Healthcare was up over 2...   \n",
       "8  Shares of Indoco Remedies rallied nearly 16 pe...   \n",
       "\n",
       "                                                 url  \n",
       "0  https://www.moneycontrol.com/news/business/mar...  \n",
       "3  https://www.moneycontrol.com/news/business/mar...  \n",
       "4  https://www.moneycontrol.com/news/business/mar...  \n",
       "5  https://www.moneycontrol.com/news/business/sto...  \n",
       "8  https://www.moneycontrol.com/news/business/mar...  "
      ]
     },
     "execution_count": 4,
     "metadata": {},
     "output_type": "execute_result"
    }
   ],
   "source": [
    "df.head()"
   ]
  },
  {
   "cell_type": "code",
   "execution_count": 5,
   "metadata": {},
   "outputs": [],
   "source": [
    "df = df.iloc[:,1:]"
   ]
  },
  {
   "cell_type": "code",
   "execution_count": 10,
   "metadata": {},
   "outputs": [],
   "source": [
    "import spacy\n",
    "nlp = spacy.load('en',disable=['parser', 'tagger','ner'])\n",
    "\n",
    "nlp.max_length = 1198623"
   ]
  },
  {
   "cell_type": "code",
   "execution_count": 11,
   "metadata": {},
   "outputs": [],
   "source": [
    "from nltk.corpus import stopwords \n",
    "stop_words = set(stopwords.words('english')) \n",
    "def separate_punc(doc_text):\n",
    "    pre =  [token.text.lower() for token in nlp(doc_text) if token.text not in '\\n\\n \\r\\n\\r\\n \\n\\n\\n!\"-#$%&()--.*+,-/:;<=>?@[\\\\]^_`{|}~\\t\\n ']\n",
    "    return [i for i in pre if i not in stop_words]"
   ]
  },
  {
   "cell_type": "code",
   "execution_count": 12,
   "metadata": {},
   "outputs": [],
   "source": [
    "tokens = [separate_punc(i) for i in df.title]"
   ]
  },
  {
   "cell_type": "code",
   "execution_count": 13,
   "metadata": {},
   "outputs": [],
   "source": [
    "from keras.preprocessing.text import Tokenizer\n",
    "# integer encode sequences of words\n",
    "tokenizer = Tokenizer()\n",
    "tokenizer.fit_on_texts(tokens)\n",
    "sequences = tokenizer.texts_to_sequences(tokens)"
   ]
  },
  {
   "cell_type": "code",
   "execution_count": 14,
   "metadata": {},
   "outputs": [],
   "source": [
    "max_article_length = max([len(i) for i in sequences])"
   ]
  },
  {
   "cell_type": "code",
   "execution_count": 11,
   "metadata": {},
   "outputs": [],
   "source": [
    "name = {-2: 'VN', -1:'N', 0:'Ne', 1:'P', 2:'VP'}\n",
    "df['Label_text'] = [name[i] for i in df['Label']]"
   ]
  },
  {
   "cell_type": "code",
   "execution_count": 15,
   "metadata": {},
   "outputs": [],
   "source": [
    "X = sequences\n",
    "y = df['Label']"
   ]
  },
  {
   "cell_type": "code",
   "execution_count": 26,
   "metadata": {},
   "outputs": [],
   "source": [
    "from sklearn.model_selection import train_test_split\n",
    "X_train, X_test, y_train, y_test = train_test_split(X, y, test_size = 0.1, random_state = 0)"
   ]
  },
  {
   "cell_type": "code",
   "execution_count": 27,
   "metadata": {},
   "outputs": [],
   "source": [
    "X_train = sequence.pad_sequences(X_train, maxlen=max_article_length, padding='post')\n",
    "X_test = sequence.pad_sequences(X_test, maxlen=max_article_length, padding='post')"
   ]
  },
  {
   "cell_type": "code",
   "execution_count": 28,
   "metadata": {},
   "outputs": [
    {
     "data": {
      "text/plain": [
       "array([262,   2, 310,  72, 421, 568, 569,  76, 570, 229, 320,  65,   5,\n",
       "         0,   0,   0,   0,   0])"
      ]
     },
     "execution_count": 28,
     "metadata": {},
     "output_type": "execute_result"
    }
   ],
   "source": [
    "X_train[0]"
   ]
  },
  {
   "cell_type": "code",
   "execution_count": 29,
   "metadata": {},
   "outputs": [
    {
     "data": {
      "text/plain": [
       "1667"
      ]
     },
     "execution_count": 29,
     "metadata": {},
     "output_type": "execute_result"
    }
   ],
   "source": [
    "len(tokenizer.index_word)"
   ]
  },
  {
   "cell_type": "code",
   "execution_count": 30,
   "metadata": {},
   "outputs": [
    {
     "data": {
      "text/plain": [
       "1667"
      ]
     },
     "execution_count": 30,
     "metadata": {},
     "output_type": "execute_result"
    }
   ],
   "source": [
    "len(tokenizer.word_counts)"
   ]
  },
  {
   "cell_type": "code",
   "execution_count": 31,
   "metadata": {},
   "outputs": [
    {
     "name": "stderr",
     "output_type": "stream",
     "text": [
      "E:\\Anaconda\\envs\\nlp_course\\lib\\site-packages\\sklearn\\utils\\validation.py:595: DataConversionWarning: Data with input dtype int64 was converted to float64 by MinMaxScaler.\n",
      "  warnings.warn(msg, DataConversionWarning)\n",
      "E:\\Anaconda\\envs\\nlp_course\\lib\\site-packages\\sklearn\\utils\\validation.py:595: DataConversionWarning: Data with input dtype int64 was converted to float64 by MinMaxScaler.\n",
      "  warnings.warn(msg, DataConversionWarning)\n"
     ]
    }
   ],
   "source": [
    "from sklearn.preprocessing import MinMaxScaler\n",
    "sc_y = MinMaxScaler()\n",
    "y_train = sc_y.fit_transform(y_train.values.reshape(-1,1))\n",
    "sc_yt = MinMaxScaler()\n",
    "y_test = sc_yt.fit_transform(y_test.values.reshape(-1,1))"
   ]
  },
  {
   "cell_type": "code",
   "execution_count": 33,
   "metadata": {
    "scrolled": true
   },
   "outputs": [
    {
     "name": "stdout",
     "output_type": "stream",
     "text": [
      "_________________________________________________________________\n",
      "Layer (type)                 Output Shape              Param #   \n",
      "=================================================================\n",
      "embedding_3 (Embedding)      (None, 18, 50)            83400     \n",
      "_________________________________________________________________\n",
      "lstm_3 (LSTM)                (None, 64)                29440     \n",
      "_________________________________________________________________\n",
      "dropout_3 (Dropout)          (None, 64)                0         \n",
      "_________________________________________________________________\n",
      "dense_3 (Dense)              (None, 1)                 65        \n",
      "=================================================================\n",
      "Total params: 112,905\n",
      "Trainable params: 112,905\n",
      "Non-trainable params: 0\n",
      "_________________________________________________________________\n",
      "None\n",
      "Train on 585 samples, validate on 66 samples\n",
      "Epoch 1/50\n",
      "585/585 [==============================] - 6s 11ms/step - loss: 0.9143 - acc: 0.2581 - val_loss: 0.6697 - val_acc: 0.3030\n",
      "Epoch 2/50\n",
      "585/585 [==============================] - 2s 3ms/step - loss: 0.6079 - acc: 0.3744 - val_loss: 0.9197 - val_acc: 0.3030\n",
      "Epoch 3/50\n",
      "585/585 [==============================] - 2s 3ms/step - loss: 0.5340 - acc: 0.4342 - val_loss: 0.6038 - val_acc: 0.3636\n",
      "Epoch 4/50\n",
      "585/585 [==============================] - 2s 4ms/step - loss: 0.4876 - acc: 0.4564 - val_loss: 0.5552 - val_acc: 0.3939\n",
      "Epoch 5/50\n",
      "585/585 [==============================] - 2s 3ms/step - loss: 0.4737 - acc: 0.4650 - val_loss: 1.0631 - val_acc: 0.4394\n",
      "Epoch 6/50\n",
      "585/585 [==============================] - 2s 4ms/step - loss: 0.4493 - acc: 0.4701 - val_loss: 1.0100 - val_acc: 0.4242\n",
      "Epoch 7/50\n",
      "585/585 [==============================] - 2s 3ms/step - loss: 0.4435 - acc: 0.4701 - val_loss: 0.7165 - val_acc: 0.3485\n",
      "Epoch 8/50\n",
      "585/585 [==============================] - 2s 3ms/step - loss: 0.4118 - acc: 0.4701 - val_loss: 0.7755 - val_acc: 0.3788\n",
      "Epoch 9/50\n",
      "585/585 [==============================] - 2s 3ms/step - loss: 0.4137 - acc: 0.4718 - val_loss: 0.9012 - val_acc: 0.4545\n",
      "Epoch 10/50\n",
      "585/585 [==============================] - 2s 3ms/step - loss: 0.3999 - acc: 0.4735 - val_loss: 0.7878 - val_acc: 0.4242\n",
      "Epoch 11/50\n",
      "585/585 [==============================] - 2s 3ms/step - loss: 0.3897 - acc: 0.4786 - val_loss: 0.7935 - val_acc: 0.4394\n",
      "Epoch 12/50\n",
      "585/585 [==============================] - 2s 3ms/step - loss: 0.3905 - acc: 0.4752 - val_loss: 0.7826 - val_acc: 0.4394\n",
      "Epoch 13/50\n",
      "585/585 [==============================] - 2s 3ms/step - loss: 0.3822 - acc: 0.4786 - val_loss: 0.7601 - val_acc: 0.4545\n",
      "Epoch 14/50\n",
      "585/585 [==============================] - 2s 3ms/step - loss: 0.3812 - acc: 0.4803 - val_loss: 0.7400 - val_acc: 0.3485\n",
      "Epoch 15/50\n",
      "585/585 [==============================] - 2s 3ms/step - loss: 0.3759 - acc: 0.4786 - val_loss: 0.5250 - val_acc: 0.3939\n",
      "Epoch 16/50\n",
      "585/585 [==============================] - 2s 3ms/step - loss: 0.3678 - acc: 0.4786 - val_loss: 0.7807 - val_acc: 0.4394\n",
      "Epoch 17/50\n",
      "585/585 [==============================] - 2s 3ms/step - loss: 0.3587 - acc: 0.4803 - val_loss: 0.7444 - val_acc: 0.4394\n",
      "Epoch 18/50\n",
      "585/585 [==============================] - 2s 3ms/step - loss: 0.3587 - acc: 0.4786 - val_loss: 0.7703 - val_acc: 0.4697\n",
      "Epoch 19/50\n",
      "585/585 [==============================] - 2s 3ms/step - loss: 0.3566 - acc: 0.4786 - val_loss: 0.7710 - val_acc: 0.4242\n",
      "Epoch 20/50\n",
      "585/585 [==============================] - 2s 3ms/step - loss: 0.3554 - acc: 0.4786 - val_loss: 0.7643 - val_acc: 0.4394\n",
      "Epoch 21/50\n",
      "585/585 [==============================] - 2s 3ms/step - loss: 0.3501 - acc: 0.4803 - val_loss: 0.7500 - val_acc: 0.4545\n",
      "Epoch 22/50\n",
      "585/585 [==============================] - 2s 3ms/step - loss: 0.3582 - acc: 0.4786 - val_loss: 0.9203 - val_acc: 0.3788\n",
      "Epoch 23/50\n",
      "585/585 [==============================] - 2s 3ms/step - loss: 0.3504 - acc: 0.4803 - val_loss: 0.7515 - val_acc: 0.4242\n",
      "Epoch 24/50\n",
      "585/585 [==============================] - 2s 3ms/step - loss: 0.3562 - acc: 0.4803 - val_loss: 0.7973 - val_acc: 0.4545\n",
      "Epoch 25/50\n",
      "585/585 [==============================] - 2s 3ms/step - loss: 0.3497 - acc: 0.4803 - val_loss: 0.7931 - val_acc: 0.4545\n",
      "Epoch 26/50\n",
      "585/585 [==============================] - 2s 3ms/step - loss: 0.3492 - acc: 0.4803 - val_loss: 0.7974 - val_acc: 0.4394\n",
      "Epoch 27/50\n",
      "585/585 [==============================] - 2s 3ms/step - loss: 0.3536 - acc: 0.4803 - val_loss: 0.7451 - val_acc: 0.4394\n",
      "Epoch 28/50\n",
      "585/585 [==============================] - 2s 3ms/step - loss: 0.3439 - acc: 0.4803 - val_loss: 0.7673 - val_acc: 0.4697\n",
      "Epoch 29/50\n",
      "585/585 [==============================] - 2s 3ms/step - loss: 0.3495 - acc: 0.4803 - val_loss: 0.7813 - val_acc: 0.4545\n",
      "Epoch 30/50\n",
      "585/585 [==============================] - 2s 3ms/step - loss: 0.3502 - acc: 0.4803 - val_loss: 0.7686 - val_acc: 0.4545\n",
      "Epoch 31/50\n",
      "585/585 [==============================] - 2s 3ms/step - loss: 0.3541 - acc: 0.4803 - val_loss: 0.9032 - val_acc: 0.4545\n",
      "Epoch 32/50\n",
      "585/585 [==============================] - 2s 3ms/step - loss: 0.3449 - acc: 0.4803 - val_loss: 0.8216 - val_acc: 0.4545\n",
      "Epoch 33/50\n",
      "585/585 [==============================] - 2s 3ms/step - loss: 0.3460 - acc: 0.4803 - val_loss: 0.7910 - val_acc: 0.4545\n",
      "Epoch 34/50\n",
      "585/585 [==============================] - 2s 3ms/step - loss: 0.3412 - acc: 0.4803 - val_loss: 0.5743 - val_acc: 0.4394\n",
      "Epoch 35/50\n",
      "585/585 [==============================] - 2s 3ms/step - loss: 0.3430 - acc: 0.4803 - val_loss: 0.8138 - val_acc: 0.4394\n",
      "Epoch 36/50\n",
      "585/585 [==============================] - 2s 3ms/step - loss: 0.3453 - acc: 0.4803 - val_loss: 0.7899 - val_acc: 0.4545\n",
      "Epoch 37/50\n",
      "585/585 [==============================] - 2s 3ms/step - loss: 0.3435 - acc: 0.4803 - val_loss: 0.8014 - val_acc: 0.4697\n",
      "Epoch 38/50\n",
      "585/585 [==============================] - 2s 3ms/step - loss: 0.3468 - acc: 0.4803 - val_loss: 0.7431 - val_acc: 0.4697\n",
      "Epoch 39/50\n",
      "585/585 [==============================] - 2s 3ms/step - loss: 0.3464 - acc: 0.4803 - val_loss: 0.7455 - val_acc: 0.4848s: 0.3441 - ac\n",
      "Epoch 40/50\n",
      "585/585 [==============================] - 2s 3ms/step - loss: 0.3475 - acc: 0.4803 - val_loss: 0.8144 - val_acc: 0.4697\n",
      "Epoch 41/50\n",
      "585/585 [==============================] - 2s 3ms/step - loss: 0.3498 - acc: 0.4803 - val_loss: 0.9001 - val_acc: 0.4242\n",
      "Epoch 42/50\n",
      "585/585 [==============================] - 2s 3ms/step - loss: 0.3457 - acc: 0.4803 - val_loss: 0.8184 - val_acc: 0.4394\n",
      "Epoch 43/50\n",
      "585/585 [==============================] - 2s 3ms/step - loss: 0.3471 - acc: 0.4803 - val_loss: 0.7974 - val_acc: 0.4697\n",
      "Epoch 44/50\n",
      "585/585 [==============================] - 2s 3ms/step - loss: 0.3392 - acc: 0.4803 - val_loss: 0.8013 - val_acc: 0.4697\n",
      "Epoch 45/50\n",
      "585/585 [==============================] - 2s 3ms/step - loss: 0.3415 - acc: 0.4803 - val_loss: 0.7583 - val_acc: 0.4697\n",
      "Epoch 46/50\n",
      "585/585 [==============================] - 2s 3ms/step - loss: 0.3378 - acc: 0.4803 - val_loss: 0.7535 - val_acc: 0.4697\n",
      "Epoch 47/50\n",
      "585/585 [==============================] - 2s 3ms/step - loss: 0.3376 - acc: 0.4803 - val_loss: 0.7884 - val_acc: 0.4697\n",
      "Epoch 48/50\n",
      "585/585 [==============================] - 2s 3ms/step - loss: 0.3427 - acc: 0.4803 - val_loss: 0.7435 - val_acc: 0.4697\n",
      "Epoch 49/50\n",
      "585/585 [==============================] - 2s 3ms/step - loss: 0.3352 - acc: 0.4803 - val_loss: 0.7453 - val_acc: 0.4697\n",
      "Epoch 50/50\n",
      "585/585 [==============================] - 2s 3ms/step - loss: 0.3383 - acc: 0.4803 - val_loss: 0.7771 - val_acc: 0.4545\n"
     ]
    },
    {
     "data": {
      "text/plain": [
       "<keras.callbacks.History at 0x260c8fc0788>"
      ]
     },
     "execution_count": 33,
     "metadata": {},
     "output_type": "execute_result"
    }
   ],
   "source": [
    "embedding_vector_length = 50\n",
    "model = Sequential()\n",
    "model.add(Embedding(1668, embedding_vector_length, input_length=max_article_length))\n",
    "model.add(LSTM(64))  \n",
    "model.add(Dropout(0.2))\n",
    "model.add(Dense(1, activation='tanh'))\n",
    "model.compile(loss='binary_crossentropy', optimizer='adadelta', metrics=['accuracy'])\n",
    "print(model.summary())\n",
    "model.fit(X_train, y_train, validation_data=(X_test, y_test), epochs=50, batch_size=8)"
   ]
  },
  {
   "cell_type": "code",
   "execution_count": 33,
   "metadata": {},
   "outputs": [
    {
     "data": {
      "image/png": "[encoded data removed]",
      "text/plain": [
       "<Figure size 432x288 with 1 Axes>"
      ]
     },
     "metadata": {
      "needs_background": "light"
     },
     "output_type": "display_data"
    }
   ],
   "source": [
    "import matplotlib.pyplot as plt\n",
    "%matplotlib inline\n",
    "# summarize history for accuracy\n",
    "plt.plot(model.history.history['acc'])\n",
    "plt.plot(model.history.history['val_acc'])\n",
    "plt.title('model accuracy')\n",
    "plt.ylabel('accuracy')\n",
    "plt.xlabel('epoch')\n",
    "plt.legend(['train', 'test'], loc='upper left')\n",
    "plt.show()"
   ]
  },
  {
   "cell_type": "code",
   "execution_count": 34,
   "metadata": {},
   "outputs": [
    {
     "name": "stdout",
     "output_type": "stream",
     "text": [
      "Accuracy: 70.73%\n"
     ]
    }
   ],
   "source": [
    "scores = model.evaluate(X_test, y_test, verbose=0)\n",
    "print(\"Accuracy: %.2f%%\" % (scores[1]*100))"
   ]
  },
  {
   "cell_type": "code",
   "execution_count": 55,
   "metadata": {},
   "outputs": [
    {
     "data": {
      "text/plain": [
       "array([177, 268, 256,   3, 893,  36, 126, 687,   6,  81,   0,   0,   0,\n",
       "         0,   0,   0,   0,   0])"
      ]
     },
     "execution_count": 55,
     "metadata": {},
     "output_type": "execute_result"
    }
   ],
   "source": [
    "def text(line):\n",
    "    dummy_list =list()\n",
    "    line_tokens = separate_punc(line)\n",
    "    dummy_list.append(line_tokens)\n",
    "    line_sequence = tokenizer.texts_to_sequences(dummy_list)\n",
    "    while len(line_sequence[0])!= max_article_length:\n",
    "        line_sequence[0].append(0)\n",
    "    final = np.array(line_sequence[0])\n",
    "    final = final.reshape(18,)\n",
    "    return final\n",
    "text(\"Small & Mid-cap party! More than 130 stocks in S&P BSE 500 index rose 10-40%\")"
   ]
  },
  {
   "cell_type": "code",
   "execution_count": 96,
   "metadata": {},
   "outputs": [
    {
     "data": {
      "text/plain": [
       "array([[0.9524079]], dtype=float32)"
      ]
     },
     "execution_count": 96,
     "metadata": {},
     "output_type": "execute_result"
    }
   ],
   "source": [
    "x = text(\"Small & Mid-cap party! More than 130 stocks in S&P BSE 500 index rose 10-40%\")\n",
    "pred_list = list()\n",
    "pred_list.append(x)\n",
    "pred_list = np.array(pred_list)\n",
    "model.predict(pred_list)"
   ]
  },
  {
   "cell_type": "code",
   "execution_count": 97,
   "metadata": {},
   "outputs": [
    {
     "data": {
      "text/plain": [
       "array([[-0.92960757]], dtype=float32)"
      ]
     },
     "execution_count": 97,
     "metadata": {},
     "output_type": "execute_result"
    }
   ],
   "source": [
    "x = text(\"Sensex down by 3000 points\")\n",
    "pred_list = list()\n",
    "pred_list.append(x)\n",
    "pred_list = np.array(pred_list)\n",
    "model.predict(pred_list)"
   ]
  },
  {
   "cell_type": "code",
   "execution_count": 98,
   "metadata": {},
   "outputs": [
    {
     "data": {
      "text/plain": [
       "array([[0.99866396]], dtype=float32)"
      ]
     },
     "execution_count": 98,
     "metadata": {},
     "output_type": "execute_result"
    }
   ],
   "source": [
    "x = text(\"Kotak Securities suggests buy on Tata Motors\")\n",
    "pred_list = list()\n",
    "pred_list.append(x)\n",
    "pred_list = np.array(pred_list)\n",
    "model.predict(pred_list)"
   ]
  },
  {
   "cell_type": "code",
   "execution_count": 99,
   "metadata": {},
   "outputs": [
    {
     "data": {
      "text/plain": [
       "array([[0.5889105]], dtype=float32)"
      ]
     },
     "execution_count": 99,
     "metadata": {},
     "output_type": "execute_result"
    }
   ],
   "source": [
    "x = text(\"Kotak Securities suggests sell on Tata Motors\")\n",
    "pred_list = list()\n",
    "pred_list.append(x)\n",
    "pred_list = np.array(pred_list)\n",
    "model.predict(pred_list)"
   ]
  },
  {
   "cell_type": "code",
   "execution_count": 100,
   "metadata": {},
   "outputs": [
    {
     "data": {
      "text/plain": [
       "array([[0.99999934]], dtype=float32)"
      ]
     },
     "execution_count": 100,
     "metadata": {},
     "output_type": "execute_result"
    }
   ],
   "source": [
    "x = text(\"Pharma stocks surge. Cipla jumps by 9%\")\n",
    "pred_list = list()\n",
    "pred_list.append(x)\n",
    "pred_list = np.array(pred_list)\n",
    "model.predict(pred_list)"
   ]
  },
  {
   "cell_type": "code",
   "execution_count": 105,
   "metadata": {},
   "outputs": [
    {
     "data": {
      "text/plain": [
       "array([[-0.77424985]], dtype=float32)"
      ]
     },
     "execution_count": 105,
     "metadata": {},
     "output_type": "execute_result"
    }
   ],
   "source": [
    "x = text(\"Pharma stocks fall. Cipla falls by 9%\")\n",
    "pred_list = list()\n",
    "pred_list.append(x)\n",
    "pred_list = np.array(pred_list)\n",
    "model.predict(pred_list)"
   ]
  },
  {
   "cell_type": "code",
   "execution_count": 106,
   "metadata": {},
   "outputs": [
    {
     "data": {
      "text/plain": [
       "array([[-0.5422711]], dtype=float32)"
      ]
     },
     "execution_count": 106,
     "metadata": {},
     "output_type": "execute_result"
    }
   ],
   "source": [
    "x = text(\"S&P Slashes India's Growth Forecast For FY21 To 1.8%\")\n",
    "pred_list = list()\n",
    "pred_list.append(x)\n",
    "pred_list = np.array(pred_list)\n",
    "model.predict(pred_list)"
   ]
  },
  {
   "cell_type": "code",
   "execution_count": 107,
   "metadata": {},
   "outputs": [
    {
     "data": {
      "text/plain": [
       "array([[-0.906007]], dtype=float32)"
      ]
     },
     "execution_count": 107,
     "metadata": {},
     "output_type": "execute_result"
    }
   ],
   "source": [
    "x = text(\"China Reports First Quarterly GDP Shrinkage In Decades Due To COVID-19\")\n",
    "pred_list = list()\n",
    "pred_list.append(x)\n",
    "pred_list = np.array(pred_list)\n",
    "model.predict(pred_list)"
   ]
  },
  {
   "cell_type": "code",
   "execution_count": 83,
   "metadata": {},
   "outputs": [],
   "source": [
    "predictions = model.predict(X_test)"
   ]
  },
  {
   "cell_type": "code",
   "execution_count": 86,
   "metadata": {},
   "outputs": [],
   "source": [
    "preds = list()\n",
    "for i in predictions:\n",
    "    if i < 0:\n",
    "        preds.append(-1)\n",
    "    else:\n",
    "        preds.append(1)"
   ]
  },
  {
   "cell_type": "code",
   "execution_count": 89,
   "metadata": {},
   "outputs": [
    {
     "data": {
      "text/plain": [
       "array([[15,  6],\n",
       "       [ 4, 16]], dtype=int64)"
      ]
     },
     "execution_count": 89,
     "metadata": {},
     "output_type": "execute_result"
    }
   ],
   "source": [
    "from sklearn import metrics\n",
    "metrics.confusion_matrix(preds, y_test)"
   ]
  },
  {
   "cell_type": "code",
   "execution_count": 90,
   "metadata": {},
   "outputs": [
    {
     "data": {
      "text/plain": [
       "0.7560975609756098"
      ]
     },
     "execution_count": 90,
     "metadata": {},
     "output_type": "execute_result"
    }
   ],
   "source": [
    "metrics.accuracy_score(preds, y_test)"
   ]
  },
  {
   "cell_type": "code",
   "execution_count": null,
   "metadata": {},
   "outputs": [],
   "source": []
  },
  {
   "cell_type": "code",
   "execution_count": 128,
   "metadata": {},
   "outputs": [],
   "source": [
    "from keras.callbacks import ModelCheckpoint"
   ]
  },
  {
   "cell_type": "code",
   "execution_count": 136,
   "metadata": {},
   "outputs": [
    {
     "name": "stdout",
     "output_type": "stream",
     "text": [
      "_________________________________________________________________\n",
      "Layer (type)                 Output Shape              Param #   \n",
      "=================================================================\n",
      "embedding_38 (Embedding)     (None, 18, 50)            67200     \n",
      "_________________________________________________________________\n",
      "lstm_38 (LSTM)               (None, 64)                29440     \n",
      "_________________________________________________________________\n",
      "dropout_38 (Dropout)         (None, 64)                0         \n",
      "_________________________________________________________________\n",
      "dense_37 (Dense)             (None, 1)                 65        \n",
      "=================================================================\n",
      "Total params: 96,705\n",
      "Trainable params: 96,705\n",
      "Non-trainable params: 0\n",
      "_________________________________________________________________\n",
      "None\n",
      "Train on 366 samples, validate on 41 samples\n",
      "Epoch 1/150\n",
      "366/366 [==============================] - 17s 46ms/step - loss: 2.5785 - acc: 0.0000e+00 - val_loss: 0.2169 - val_acc: 0.0000e+00\n",
      "Epoch 2/150\n",
      "366/366 [==============================] - 1s 4ms/step - loss: 0.5227 - acc: 0.0000e+00 - val_loss: 0.2261 - val_acc: 0.0000e+00\n",
      "Epoch 3/150\n",
      "366/366 [==============================] - 1s 4ms/step - loss: 0.4310 - acc: 0.0000e+00 - val_loss: 0.1635 - val_acc: 0.0000e+00\n",
      "Epoch 4/150\n",
      "366/366 [==============================] - 2s 4ms/step - loss: -2.7115 - acc: 0.2951 - val_loss: -2.8317 - val_acc: 0.3415\n",
      "Epoch 5/150\n",
      "366/366 [==============================] - 2s 4ms/step - loss: -4.9949 - acc: 0.6749 - val_loss: -2.2461 - val_acc: 0.6341\n",
      "Epoch 6/150\n",
      "366/366 [==============================] - 1s 4ms/step - loss: -5.1045 - acc: 0.7896 - val_loss: -3.1768 - val_acc: 0.5122\n",
      "Epoch 7/150\n",
      "366/366 [==============================] - 1s 4ms/step - loss: -5.6313 - acc: 0.8224 - val_loss: -2.6659 - val_acc: 0.5366\n",
      "Epoch 8/150\n",
      "366/366 [==============================] - 2s 4ms/step - loss: -5.7529 - acc: 0.8716 - val_loss: -2.4797 - val_acc: 0.5610\n",
      "Epoch 9/150\n",
      "366/366 [==============================] - 2s 4ms/step - loss: -5.7638 - acc: 0.8907 - val_loss: -1.9324 - val_acc: 0.6098\n",
      "Epoch 10/150\n",
      "366/366 [==============================] - 2s 4ms/step - loss: -5.8138 - acc: 0.8907 - val_loss: -2.1250 - val_acc: 0.6829\n",
      "Epoch 11/150\n",
      "366/366 [==============================] - 1s 4ms/step - loss: -5.8231 - acc: 0.9180 - val_loss: -2.5579 - val_acc: 0.6585\n",
      "Epoch 12/150\n",
      "366/366 [==============================] - 1s 4ms/step - loss: -5.8563 - acc: 0.9426 - val_loss: -2.3604 - val_acc: 0.6829\n",
      "Epoch 13/150\n",
      "366/366 [==============================] - 1s 4ms/step - loss: -5.8570 - acc: 0.9344 - val_loss: -1.9219 - val_acc: 0.6829\n",
      "Epoch 14/150\n",
      "366/366 [==============================] - 1s 4ms/step - loss: -5.8132 - acc: 0.9317 - val_loss: -1.2879 - val_acc: 0.6585\n",
      "Epoch 15/150\n",
      "366/366 [==============================] - 1s 4ms/step - loss: -5.8626 - acc: 0.9262 - val_loss: -1.6240 - val_acc: 0.6585\n",
      "Epoch 16/150\n",
      "366/366 [==============================] - 2s 4ms/step - loss: -5.8589 - acc: 0.9208 - val_loss: -2.1180 - val_acc: 0.6585\n",
      "Epoch 17/150\n",
      "366/366 [==============================] - 1s 4ms/step - loss: -5.8239 - acc: 0.9399 - val_loss: -2.5566 - val_acc: 0.6829\n",
      "Epoch 18/150\n",
      "366/366 [==============================] - 1s 4ms/step - loss: -5.8570 - acc: 0.9317 - val_loss: -2.1395 - val_acc: 0.6829\n",
      "Epoch 19/150\n",
      "366/366 [==============================] - 1s 4ms/step - loss: -5.8241 - acc: 0.9454 - val_loss: -2.5909 - val_acc: 0.6585\n",
      "Epoch 20/150\n",
      "366/366 [==============================] - 1s 4ms/step - loss: -5.8569 - acc: 0.9399 - val_loss: -2.4293 - val_acc: 0.6585\n",
      "Epoch 21/150\n",
      "366/366 [==============================] - 1s 4ms/step - loss: -5.8157 - acc: 0.9426 - val_loss: -2.6168 - val_acc: 0.6341\n",
      "Epoch 22/150\n",
      "366/366 [==============================] - 1s 4ms/step - loss: -5.8562 - acc: 0.9454 - val_loss: -2.3745 - val_acc: 0.6341\n",
      "Epoch 23/150\n",
      "366/366 [==============================] - 1s 4ms/step - loss: -5.8571 - acc: 0.9454 - val_loss: -2.2794 - val_acc: 0.6341\n",
      "Epoch 24/150\n",
      "366/366 [==============================] - 1s 4ms/step - loss: -5.8571 - acc: 0.9426 - val_loss: -2.1863 - val_acc: 0.6585\n",
      "Epoch 25/150\n",
      "366/366 [==============================] - 1s 4ms/step - loss: -5.8571 - acc: 0.9399 - val_loss: -1.8442 - val_acc: 0.6585\n",
      "Epoch 26/150\n",
      "366/366 [==============================] - 1s 4ms/step - loss: -5.8571 - acc: 0.9426 - val_loss: -1.6185 - val_acc: 0.6585\n",
      "Epoch 27/150\n",
      "366/366 [==============================] - 1s 4ms/step - loss: -5.8172 - acc: 0.9290 - val_loss: -2.7745 - val_acc: 0.6585\n",
      "Epoch 28/150\n",
      "366/366 [==============================] - 1s 4ms/step - loss: -5.8569 - acc: 0.9508 - val_loss: -2.6118 - val_acc: 0.6585\n",
      "Epoch 29/150\n",
      "366/366 [==============================] - 1s 4ms/step - loss: -5.8571 - acc: 0.9508 - val_loss: -2.5541 - val_acc: 0.6585\n",
      "Epoch 30/150\n",
      "366/366 [==============================] - 1s 4ms/step - loss: -5.8199 - acc: 0.9426 - val_loss: -2.3616 - val_acc: 0.6829\n",
      "Epoch 31/150\n",
      "366/366 [==============================] - 1s 4ms/step - loss: -5.8570 - acc: 0.9536 - val_loss: -2.1960 - val_acc: 0.7073\n",
      "Epoch 32/150\n",
      "366/366 [==============================] - 1s 4ms/step - loss: -5.8571 - acc: 0.9536 - val_loss: -2.1504 - val_acc: 0.7073\n",
      "Epoch 33/150\n",
      "366/366 [==============================] - 1s 4ms/step - loss: -5.8571 - acc: 0.9536 - val_loss: -2.3823 - val_acc: 0.6829\n",
      "Epoch 34/150\n",
      "366/366 [==============================] - 1s 4ms/step - loss: -5.8571 - acc: 0.9536 - val_loss: -2.3732 - val_acc: 0.6829\n",
      "Epoch 35/150\n",
      "366/366 [==============================] - 1s 4ms/step - loss: -5.8571 - acc: 0.9536 - val_loss: -2.0327 - val_acc: 0.6341\n",
      "Epoch 36/150\n",
      "366/366 [==============================] - 1s 4ms/step - loss: -5.8571 - acc: 0.9508 - val_loss: -1.9475 - val_acc: 0.6341\n",
      "Epoch 37/150\n",
      "366/366 [==============================] - 1s 4ms/step - loss: -5.8571 - acc: 0.9481 - val_loss: -1.8581 - val_acc: 0.6585\n",
      "Epoch 38/150\n",
      "366/366 [==============================] - 1s 4ms/step - loss: -5.8571 - acc: 0.9344 - val_loss: -1.4508 - val_acc: 0.6585\n",
      "Epoch 39/150\n",
      "366/366 [==============================] - 1s 4ms/step - loss: -5.8186 - acc: 0.9153 - val_loss: -1.5053 - val_acc: 0.6585\n",
      "Epoch 40/150\n",
      "366/366 [==============================] - 1s 4ms/step - loss: -5.8621 - acc: 0.9180 - val_loss: -2.5415 - val_acc: 0.6585\n",
      "Epoch 41/150\n",
      "366/366 [==============================] - 1s 4ms/step - loss: -5.8571 - acc: 0.9481 - val_loss: -2.5210 - val_acc: 0.6585\n",
      "Epoch 42/150\n",
      "366/366 [==============================] - 1s 4ms/step - loss: -5.8571 - acc: 0.9481 - val_loss: -2.1693 - val_acc: 0.6585\n",
      "Epoch 43/150\n",
      "366/366 [==============================] - 1s 4ms/step - loss: -5.8571 - acc: 0.9481 - val_loss: -2.1115 - val_acc: 0.6585\n",
      "Epoch 44/150\n",
      "366/366 [==============================] - 1s 4ms/step - loss: -5.8571 - acc: 0.9481 - val_loss: -2.0634 - val_acc: 0.6585\n",
      "Epoch 45/150\n",
      "366/366 [==============================] - 1s 4ms/step - loss: -5.8571 - acc: 0.9481 - val_loss: -2.0060 - val_acc: 0.6341\n",
      "Epoch 46/150\n",
      "366/366 [==============================] - 1s 4ms/step - loss: -5.8571 - acc: 0.9344 - val_loss: -1.9184 - val_acc: 0.6585\n",
      "Epoch 47/150\n",
      "366/366 [==============================] - 1s 4ms/step - loss: -5.8571 - acc: 0.9262 - val_loss: -1.1294 - val_acc: 0.6585\n",
      "Epoch 48/150\n",
      "366/366 [==============================] - 1s 4ms/step - loss: -5.8346 - acc: 0.9180 - val_loss: -2.0685 - val_acc: 0.6585\n",
      "Epoch 49/150\n",
      "366/366 [==============================] - 1s 4ms/step - loss: -5.8656 - acc: 0.9290 - val_loss: -2.6749 - val_acc: 0.6585\n",
      "Epoch 50/150\n",
      "366/366 [==============================] - 1s 4ms/step - loss: -5.8570 - acc: 0.9426 - val_loss: -2.2322 - val_acc: 0.6585\n",
      "Epoch 51/150\n",
      "366/366 [==============================] - 1s 4ms/step - loss: -5.8571 - acc: 0.9372 - val_loss: -2.1808 - val_acc: 0.6585\n",
      "Epoch 52/150\n",
      "366/366 [==============================] - 1s 4ms/step - loss: -5.8571 - acc: 0.9317 - val_loss: -2.1150 - val_acc: 0.6585\n",
      "Epoch 53/150\n",
      "366/366 [==============================] - 1s 4ms/step - loss: -5.7231 - acc: 0.9071 - val_loss: -1.5993 - val_acc: 0.6585\n",
      "Epoch 54/150\n",
      "366/366 [==============================] - 1s 4ms/step - loss: -5.8242 - acc: 0.9180 - val_loss: -2.3116 - val_acc: 0.6585\n",
      "Epoch 55/150\n",
      "366/366 [==============================] - 1s 4ms/step - loss: -5.9004 - acc: 0.9426 - val_loss: -2.2389 - val_acc: 0.6829\n",
      "Epoch 56/150\n",
      "152/366 [===========>..................] - ETA: 0s - loss: -6.1503 - acc: 0.9539"
     ]
    },
    {
     "ename": "KeyboardInterrupt",
     "evalue": "",
     "output_type": "error",
     "traceback": [
      "\u001b[1;31m---------------------------------------------------------------------------\u001b[0m",
      "\u001b[1;31mKeyboardInterrupt\u001b[0m                         Traceback (most recent call last)",
      "\u001b[1;32m<ipython-input-136-7349da6a6b8e>\u001b[0m in \u001b[0;36m<module>\u001b[1;34m\u001b[0m\n\u001b[0;32m     10\u001b[0m \u001b[0mcheckpoint\u001b[0m \u001b[1;33m=\u001b[0m \u001b[0mModelCheckpoint\u001b[0m\u001b[1;33m(\u001b[0m\u001b[0mfilepath\u001b[0m\u001b[1;33m,\u001b[0m \u001b[0mmonitor\u001b[0m\u001b[1;33m=\u001b[0m\u001b[1;34m'val_accuracy'\u001b[0m\u001b[1;33m,\u001b[0m \u001b[0mverbose\u001b[0m\u001b[1;33m=\u001b[0m\u001b[1;36m1\u001b[0m\u001b[1;33m,\u001b[0m \u001b[0msave_best_only\u001b[0m\u001b[1;33m=\u001b[0m\u001b[1;32mTrue\u001b[0m\u001b[1;33m,\u001b[0m \u001b[0mmode\u001b[0m\u001b[1;33m=\u001b[0m\u001b[1;34m'max'\u001b[0m\u001b[1;33m)\u001b[0m\u001b[1;33m\u001b[0m\u001b[1;33m\u001b[0m\u001b[0m\n\u001b[0;32m     11\u001b[0m \u001b[0mcallbacks_list\u001b[0m \u001b[1;33m=\u001b[0m \u001b[1;33m[\u001b[0m\u001b[0mcheckpoint\u001b[0m\u001b[1;33m]\u001b[0m\u001b[1;33m\u001b[0m\u001b[1;33m\u001b[0m\u001b[0m\n\u001b[1;32m---> 12\u001b[1;33m \u001b[0mmodel\u001b[0m\u001b[1;33m.\u001b[0m\u001b[0mfit\u001b[0m\u001b[1;33m(\u001b[0m\u001b[0mX_train\u001b[0m\u001b[1;33m,\u001b[0m \u001b[0my_train\u001b[0m\u001b[1;33m,\u001b[0m \u001b[0mvalidation_data\u001b[0m\u001b[1;33m=\u001b[0m\u001b[1;33m(\u001b[0m\u001b[0mX_test\u001b[0m\u001b[1;33m,\u001b[0m \u001b[0my_test\u001b[0m\u001b[1;33m)\u001b[0m\u001b[1;33m,\u001b[0m \u001b[0mepochs\u001b[0m\u001b[1;33m=\u001b[0m\u001b[1;36m150\u001b[0m\u001b[1;33m,\u001b[0m \u001b[0mbatch_size\u001b[0m\u001b[1;33m=\u001b[0m\u001b[1;36m8\u001b[0m\u001b[1;33m)\u001b[0m\u001b[1;33m\u001b[0m\u001b[1;33m\u001b[0m\u001b[0m\n\u001b[0m",
      "\u001b[1;32mE:\\Anaconda\\envs\\nlp_course\\lib\\site-packages\\keras\\engine\\training.py\u001b[0m in \u001b[0;36mfit\u001b[1;34m(self, x, y, batch_size, epochs, verbose, callbacks, validation_split, validation_data, shuffle, class_weight, sample_weight, initial_epoch, steps_per_epoch, validation_steps, **kwargs)\u001b[0m\n\u001b[0;32m   1037\u001b[0m                                         \u001b[0minitial_epoch\u001b[0m\u001b[1;33m=\u001b[0m\u001b[0minitial_epoch\u001b[0m\u001b[1;33m,\u001b[0m\u001b[1;33m\u001b[0m\u001b[1;33m\u001b[0m\u001b[0m\n\u001b[0;32m   1038\u001b[0m                                         \u001b[0msteps_per_epoch\u001b[0m\u001b[1;33m=\u001b[0m\u001b[0msteps_per_epoch\u001b[0m\u001b[1;33m,\u001b[0m\u001b[1;33m\u001b[0m\u001b[1;33m\u001b[0m\u001b[0m\n\u001b[1;32m-> 1039\u001b[1;33m                                         validation_steps=validation_steps)\n\u001b[0m\u001b[0;32m   1040\u001b[0m \u001b[1;33m\u001b[0m\u001b[0m\n\u001b[0;32m   1041\u001b[0m     def evaluate(self, x=None, y=None,\n",
      "\u001b[1;32mE:\\Anaconda\\envs\\nlp_course\\lib\\site-packages\\keras\\engine\\training_arrays.py\u001b[0m in \u001b[0;36mfit_loop\u001b[1;34m(model, f, ins, out_labels, batch_size, epochs, verbose, callbacks, val_f, val_ins, shuffle, callback_metrics, initial_epoch, steps_per_epoch, validation_steps)\u001b[0m\n\u001b[0;32m    197\u001b[0m                     \u001b[0mins_batch\u001b[0m\u001b[1;33m[\u001b[0m\u001b[0mi\u001b[0m\u001b[1;33m]\u001b[0m \u001b[1;33m=\u001b[0m \u001b[0mins_batch\u001b[0m\u001b[1;33m[\u001b[0m\u001b[0mi\u001b[0m\u001b[1;33m]\u001b[0m\u001b[1;33m.\u001b[0m\u001b[0mtoarray\u001b[0m\u001b[1;33m(\u001b[0m\u001b[1;33m)\u001b[0m\u001b[1;33m\u001b[0m\u001b[1;33m\u001b[0m\u001b[0m\n\u001b[0;32m    198\u001b[0m \u001b[1;33m\u001b[0m\u001b[0m\n\u001b[1;32m--> 199\u001b[1;33m                 \u001b[0mouts\u001b[0m \u001b[1;33m=\u001b[0m \u001b[0mf\u001b[0m\u001b[1;33m(\u001b[0m\u001b[0mins_batch\u001b[0m\u001b[1;33m)\u001b[0m\u001b[1;33m\u001b[0m\u001b[1;33m\u001b[0m\u001b[0m\n\u001b[0m\u001b[0;32m    200\u001b[0m                 \u001b[0mouts\u001b[0m \u001b[1;33m=\u001b[0m \u001b[0mto_list\u001b[0m\u001b[1;33m(\u001b[0m\u001b[0mouts\u001b[0m\u001b[1;33m)\u001b[0m\u001b[1;33m\u001b[0m\u001b[1;33m\u001b[0m\u001b[0m\n\u001b[0;32m    201\u001b[0m                 \u001b[1;32mfor\u001b[0m \u001b[0ml\u001b[0m\u001b[1;33m,\u001b[0m \u001b[0mo\u001b[0m \u001b[1;32min\u001b[0m \u001b[0mzip\u001b[0m\u001b[1;33m(\u001b[0m\u001b[0mout_labels\u001b[0m\u001b[1;33m,\u001b[0m \u001b[0mouts\u001b[0m\u001b[1;33m)\u001b[0m\u001b[1;33m:\u001b[0m\u001b[1;33m\u001b[0m\u001b[1;33m\u001b[0m\u001b[0m\n",
      "\u001b[1;32mE:\\Anaconda\\envs\\nlp_course\\lib\\site-packages\\keras\\backend\\tensorflow_backend.py\u001b[0m in \u001b[0;36m__call__\u001b[1;34m(self, inputs)\u001b[0m\n\u001b[0;32m   2713\u001b[0m                 \u001b[1;32mreturn\u001b[0m \u001b[0mself\u001b[0m\u001b[1;33m.\u001b[0m\u001b[0m_legacy_call\u001b[0m\u001b[1;33m(\u001b[0m\u001b[0minputs\u001b[0m\u001b[1;33m)\u001b[0m\u001b[1;33m\u001b[0m\u001b[1;33m\u001b[0m\u001b[0m\n\u001b[0;32m   2714\u001b[0m \u001b[1;33m\u001b[0m\u001b[0m\n\u001b[1;32m-> 2715\u001b[1;33m             \u001b[1;32mreturn\u001b[0m \u001b[0mself\u001b[0m\u001b[1;33m.\u001b[0m\u001b[0m_call\u001b[0m\u001b[1;33m(\u001b[0m\u001b[0minputs\u001b[0m\u001b[1;33m)\u001b[0m\u001b[1;33m\u001b[0m\u001b[1;33m\u001b[0m\u001b[0m\n\u001b[0m\u001b[0;32m   2716\u001b[0m         \u001b[1;32melse\u001b[0m\u001b[1;33m:\u001b[0m\u001b[1;33m\u001b[0m\u001b[1;33m\u001b[0m\u001b[0m\n\u001b[0;32m   2717\u001b[0m             \u001b[1;32mif\u001b[0m \u001b[0mpy_any\u001b[0m\u001b[1;33m(\u001b[0m\u001b[0mis_tensor\u001b[0m\u001b[1;33m(\u001b[0m\u001b[0mx\u001b[0m\u001b[1;33m)\u001b[0m \u001b[1;32mfor\u001b[0m \u001b[0mx\u001b[0m \u001b[1;32min\u001b[0m \u001b[0minputs\u001b[0m\u001b[1;33m)\u001b[0m\u001b[1;33m:\u001b[0m\u001b[1;33m\u001b[0m\u001b[1;33m\u001b[0m\u001b[0m\n",
      "\u001b[1;32mE:\\Anaconda\\envs\\nlp_course\\lib\\site-packages\\keras\\backend\\tensorflow_backend.py\u001b[0m in \u001b[0;36m_call\u001b[1;34m(self, inputs)\u001b[0m\n\u001b[0;32m   2673\u001b[0m             \u001b[0mfetched\u001b[0m \u001b[1;33m=\u001b[0m \u001b[0mself\u001b[0m\u001b[1;33m.\u001b[0m\u001b[0m_callable_fn\u001b[0m\u001b[1;33m(\u001b[0m\u001b[1;33m*\u001b[0m\u001b[0marray_vals\u001b[0m\u001b[1;33m,\u001b[0m \u001b[0mrun_metadata\u001b[0m\u001b[1;33m=\u001b[0m\u001b[0mself\u001b[0m\u001b[1;33m.\u001b[0m\u001b[0mrun_metadata\u001b[0m\u001b[1;33m)\u001b[0m\u001b[1;33m\u001b[0m\u001b[1;33m\u001b[0m\u001b[0m\n\u001b[0;32m   2674\u001b[0m         \u001b[1;32melse\u001b[0m\u001b[1;33m:\u001b[0m\u001b[1;33m\u001b[0m\u001b[1;33m\u001b[0m\u001b[0m\n\u001b[1;32m-> 2675\u001b[1;33m             \u001b[0mfetched\u001b[0m \u001b[1;33m=\u001b[0m \u001b[0mself\u001b[0m\u001b[1;33m.\u001b[0m\u001b[0m_callable_fn\u001b[0m\u001b[1;33m(\u001b[0m\u001b[1;33m*\u001b[0m\u001b[0marray_vals\u001b[0m\u001b[1;33m)\u001b[0m\u001b[1;33m\u001b[0m\u001b[1;33m\u001b[0m\u001b[0m\n\u001b[0m\u001b[0;32m   2676\u001b[0m         \u001b[1;32mreturn\u001b[0m \u001b[0mfetched\u001b[0m\u001b[1;33m[\u001b[0m\u001b[1;33m:\u001b[0m\u001b[0mlen\u001b[0m\u001b[1;33m(\u001b[0m\u001b[0mself\u001b[0m\u001b[1;33m.\u001b[0m\u001b[0moutputs\u001b[0m\u001b[1;33m)\u001b[0m\u001b[1;33m]\u001b[0m\u001b[1;33m\u001b[0m\u001b[1;33m\u001b[0m\u001b[0m\n\u001b[0;32m   2677\u001b[0m \u001b[1;33m\u001b[0m\u001b[0m\n",
      "\u001b[1;32mE:\\Anaconda\\envs\\nlp_course\\lib\\site-packages\\tensorflow\\python\\client\\session.py\u001b[0m in \u001b[0;36m__call__\u001b[1;34m(self, *args, **kwargs)\u001b[0m\n\u001b[0;32m   1437\u001b[0m           ret = tf_session.TF_SessionRunCallable(\n\u001b[0;32m   1438\u001b[0m               \u001b[0mself\u001b[0m\u001b[1;33m.\u001b[0m\u001b[0m_session\u001b[0m\u001b[1;33m.\u001b[0m\u001b[0m_session\u001b[0m\u001b[1;33m,\u001b[0m \u001b[0mself\u001b[0m\u001b[1;33m.\u001b[0m\u001b[0m_handle\u001b[0m\u001b[1;33m,\u001b[0m \u001b[0margs\u001b[0m\u001b[1;33m,\u001b[0m \u001b[0mstatus\u001b[0m\u001b[1;33m,\u001b[0m\u001b[1;33m\u001b[0m\u001b[1;33m\u001b[0m\u001b[0m\n\u001b[1;32m-> 1439\u001b[1;33m               run_metadata_ptr)\n\u001b[0m\u001b[0;32m   1440\u001b[0m         \u001b[1;32mif\u001b[0m \u001b[0mrun_metadata\u001b[0m\u001b[1;33m:\u001b[0m\u001b[1;33m\u001b[0m\u001b[1;33m\u001b[0m\u001b[0m\n\u001b[0;32m   1441\u001b[0m           \u001b[0mproto_data\u001b[0m \u001b[1;33m=\u001b[0m \u001b[0mtf_session\u001b[0m\u001b[1;33m.\u001b[0m\u001b[0mTF_GetBuffer\u001b[0m\u001b[1;33m(\u001b[0m\u001b[0mrun_metadata_ptr\u001b[0m\u001b[1;33m)\u001b[0m\u001b[1;33m\u001b[0m\u001b[1;33m\u001b[0m\u001b[0m\n",
      "\u001b[1;31mKeyboardInterrupt\u001b[0m: "
     ]
    }
   ],
   "source": [
    "embedding_vector_length = 50\n",
    "model = Sequential()\n",
    "model.add(Embedding(1344, embedding_vector_length, input_length=max_article_length))\n",
    "model.add(LSTM(64))  \n",
    "model.add(Dropout(0.2))\n",
    "model.add(Dense(1, activation='tanh'))\n",
    "model.compile(loss='binary_crossentropy', optimizer='adadelta', metrics=['accuracy'])\n",
    "print(model.summary())\n",
    "filepath=\"weights.best.hdf5\"\n",
    "checkpoint = ModelCheckpoint(filepath, monitor='val_accuracy', verbose=1, save_best_only=True, mode='max')\n",
    "callbacks_list = [checkpoint]\n",
    "model.fit(X_train, y_train, validation_data=(X_test, y_test), epochs=150, batch_size=8)"
   ]
  },
  {
   "cell_type": "code",
   "execution_count": null,
   "metadata": {},
   "outputs": [],
   "source": []
  }
 ],
 "metadata": {
  "kernelspec": {
   "display_name": "Python 3",
   "language": "python",
   "name": "python3"
  },
  "language_info": {
   "codemirror_mode": {
    "name": "ipython",
    "version": 3
   },
   "file_extension": ".py",
   "mimetype": "text/x-python",
   "name": "python",
   "nbconvert_exporter": "python",
   "pygments_lexer": "ipython3",
   "version": "3.7.6"
  }
 },
 "nbformat": 4,
 "nbformat_minor": 4
}
